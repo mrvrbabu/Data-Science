{
 "cells": [
  {
   "cell_type": "code",
   "execution_count": 8,
   "metadata": {},
   "outputs": [
    {
     "name": "stdout",
     "output_type": "stream",
     "text": [
      "Hello world\n",
      "Welcome to world of python\n",
      "I am doing good\n",
      "Please complete this course diligently\n",
      "\n"
     ]
    }
   ],
   "source": [
    "# Read whole file\n",
    "with open('example.txt', mode='r') as file:\n",
    "    content = file.read()\n",
    "    print(content)"
   ]
  },
  {
   "cell_type": "code",
   "execution_count": 9,
   "metadata": {},
   "outputs": [
    {
     "name": "stdout",
     "output_type": "stream",
     "text": [
      "Hello world\n",
      "\n",
      "Welcome to world of python\n",
      "\n",
      "I am doing good\n",
      "\n",
      "Please complete this course diligently\n",
      "\n"
     ]
    }
   ],
   "source": [
    "with open('example.txt', 'r') as file:\n",
    "    for line in file:\n",
    "        print(line)\n",
    "        # print(line.strip())"
   ]
  },
  {
   "cell_type": "code",
   "execution_count": 13,
   "metadata": {},
   "outputs": [],
   "source": [
    "# Open a file for writing\n",
    "with open(\"writefile.txt\", mode='w') as file:\n",
    "    file.write(\"Hello world\\n\")\n",
    "    file.write(\"This is second line\\n\")"
   ]
  },
  {
   "cell_type": "code",
   "execution_count": 21,
   "metadata": {},
   "outputs": [],
   "source": [
    "# Without overwriting\n",
    "with open(\"withoutoverwriting.txt\", mode='a') as file:\n",
    "    file.write(\"Append line 1\\n\")\n",
    "    file.write(\"Adding another line\\n\")"
   ]
  },
  {
   "cell_type": "code",
   "execution_count": 46,
   "metadata": {},
   "outputs": [
    {
     "name": "stdout",
     "output_type": "stream",
     "text": [
      "Hello world\n",
      "Welcome to world of python\n",
      "I am doing good\n",
      "Please complete this course diligently\n",
      "Adding new line to test writing\n",
      "First line\n",
      "Second line\n",
      "Third line\n",
      "First line\n",
      "Second line\n",
      "Third line\n",
      "First line\n",
      "Second line\n",
      "Third line\n",
      "First line\n",
      "Second line\n",
      "Third line\n",
      "First line\n",
      "Second line\n",
      "Third line\n",
      "First line\n",
      "Second line\n",
      "Third line\n"
     ]
    }
   ],
   "source": [
    "# Writing content from one file to another\n",
    "with open('readfile.txt', mode='r') as readfile:\n",
    "    content = readfile.read()\n",
    "    # print(content)\n",
    "\n",
    "with open('writefile.txt', mode='w') as writefile:\n",
    "    for line in content:\n",
    "        writefile.write(line)\n",
    "        # print(line)\n",
    "\n",
    "with open('writefile.txt', mode='r') as newwritefile:\n",
    "    for newline in newwritefile:\n",
    "        print(newline.strip())"
   ]
  },
  {
   "cell_type": "code",
   "execution_count": 42,
   "metadata": {},
   "outputs": [
    {
     "name": "stdout",
     "output_type": "stream",
     "text": [
      "Hello world\n",
      "Welcome to world of python\n",
      "I am doing good\n",
      "Please complete this course diligently\n",
      "Adding new line to test writing\n",
      "First line\n",
      "Second line\n",
      "Third line\n",
      "First line\n",
      "Second line\n",
      "Third line\n",
      "First line\n",
      "Second line\n",
      "Third line\n",
      "First line\n",
      "Second line\n",
      "Third line\n",
      "First line\n",
      "Second line\n",
      "Third line\n",
      "First line\n",
      "Second line\n",
      "Third line\n"
     ]
    }
   ],
   "source": [
    "# Adding more lines\n",
    "lines = [\"First line\\n\", \"Second line\\n\", \"Third line\\n\"]\n",
    "with open('readfile.txt', 'a') as readfile:\n",
    "    readfile.writelines(lines)\n",
    "\n",
    "with open(\"readfile.txt\", 'r') as newreadfile:\n",
    "    for line in newreadfile:\n",
    "        print(line.strip())"
   ]
  },
  {
   "cell_type": "code",
   "execution_count": 45,
   "metadata": {},
   "outputs": [
    {
     "name": "stdout",
     "output_type": "stream",
     "text": [
      "b'\\x00\\x01\\x02\\x03\\x04\\x05'\n"
     ]
    }
   ],
   "source": [
    "# Binary files\n",
    "\n",
    "# Writing to binary files\n",
    "data = b'\\x00\\x01\\x02\\x03\\x04\\x05'\n",
    "with open('binary.bin', mode='wb') as binfile:\n",
    "    binfile.write(data)\n",
    "\n",
    "# Reading binary files\n",
    "with open('binary.bin', mode='rb') as readfile:\n",
    "    for line in readfile:\n",
    "        print(line)"
   ]
  },
  {
   "cell_type": "code",
   "execution_count": 50,
   "metadata": {},
   "outputs": [
    {
     "name": "stdout",
     "output_type": "stream",
     "text": [
      "lines : 23, words: 58, characters: 330\n"
     ]
    }
   ],
   "source": [
    "def count_text_file(file_path):\n",
    "    with open(file_path, 'r') as file:\n",
    "        lines = file.readlines()\n",
    "        line_count = len(lines)\n",
    "        word_count = sum(len(line.split()) for line in lines)\n",
    "        char_count = sum(len(line) for line in lines)\n",
    "    return line_count, word_count, char_count\n",
    "\n",
    "\n",
    "file_path = 'readfile.txt'\n",
    "lines, words, characters = count_text_file(file_path)\n",
    "print(f'lines : { lines}, words: {words}, characters: {characters}')"
   ]
  },
  {
   "cell_type": "code",
   "execution_count": 54,
   "metadata": {},
   "outputs": [
    {
     "name": "stdout",
     "output_type": "stream",
     "text": [
      "Hello world\n",
      "Welcome to my python\n",
      "\n"
     ]
    }
   ],
   "source": [
    "# Writing and reading into the file\n",
    "\n",
    "with open(\"readwrite.txt\", mode='w+') as readwrite:\n",
    "    readwrite.write(\"Hello world\\n\")\n",
    "    readwrite.write(\"Welcome to my python\\n\")\n",
    "\n",
    "    readwrite.seek(0)\n",
    "\n",
    "    content = readwrite.read()\n",
    "    print(content)"
   ]
  },
  {
   "cell_type": "code",
   "execution_count": null,
   "metadata": {},
   "outputs": [],
   "source": []
  }
 ],
 "metadata": {
  "kernelspec": {
   "display_name": "Python 3",
   "language": "python",
   "name": "python3"
  },
  "language_info": {
   "codemirror_mode": {
    "name": "ipython",
    "version": 3
   },
   "file_extension": ".py",
   "mimetype": "text/x-python",
   "name": "python",
   "nbconvert_exporter": "python",
   "pygments_lexer": "ipython3",
   "version": "3.9.7"
  },
  "orig_nbformat": 4
 },
 "nbformat": 4,
 "nbformat_minor": 2
}
