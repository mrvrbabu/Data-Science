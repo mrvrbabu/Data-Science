{
 "cells": [
  {
   "cell_type": "code",
   "execution_count": 36,
   "metadata": {},
   "outputs": [],
   "source": [
    "# Inheritance\n",
    "# Example of single inheritance\n",
    "# Parent class\n",
    "\n",
    "class Car:\n",
    "    # Build constructor\n",
    "    def __init__(self, name, city):\n",
    "        self.name = name\n",
    "        self.city = city\n",
    "\n",
    "    def details(self):\n",
    "        print(f\"Hi there my name is { self.name } and I am from { self.city }\")\n",
    "        return None"
   ]
  },
  {
   "cell_type": "code",
   "execution_count": 19,
   "metadata": {},
   "outputs": [
    {
     "name": "stdout",
     "output_type": "stream",
     "text": [
      "I have 4 windows\n"
     ]
    }
   ],
   "source": [
    "cars1 = Car(\"Cadillac\", \"Bengaluru\")\n",
    "cars1.window = 4\n",
    "# print(type(cars1))\n",
    "\n",
    "# cars1.details()\n",
    "print(f\"I have {cars1.window} windows\")"
   ]
  },
  {
   "cell_type": "code",
   "execution_count": 24,
   "metadata": {},
   "outputs": [
    {
     "name": "stdout",
     "output_type": "stream",
     "text": [
      "The person will drive the Petrol car\n"
     ]
    }
   ],
   "source": [
    "class Car:\n",
    "    def __init__(self, windows, doors, enginetype):\n",
    "        self.windows = windows\n",
    "        self.doors = doors\n",
    "        self.enginetype = enginetype\n",
    "\n",
    "    def drive(self):\n",
    "        print(f\"The person will drive the { self.enginetype} car\")\n",
    "\n",
    "\n",
    "mycar = Car(4, 5, \"Petrol\")\n",
    "mycar.drive()"
   ]
  },
  {
   "cell_type": "code",
   "execution_count": 33,
   "metadata": {},
   "outputs": [],
   "source": [
    "class Tesla(Car):\n",
    "    def __init__(self, windows, doors, enginetype, is_selfdriving):\n",
    "        super().__init__(windows, doors, enginetype)\n",
    "        self.is_selfdriving = is_selfdriving\n",
    "\n",
    "    def selfdriving(self):\n",
    "        print(f\"Tesla supports self driving ? { self.is_selfdriving}\")"
   ]
  },
  {
   "cell_type": "code",
   "execution_count": 35,
   "metadata": {},
   "outputs": [
    {
     "name": "stdout",
     "output_type": "stream",
     "text": [
      "Tesla supports self driving ? True\n",
      "The person will drive the Electric car\n"
     ]
    }
   ],
   "source": [
    "tesla1 = Tesla(4, 5, \"Electric\", True)\n",
    "# print(tesla1.selfdriving())\n",
    "tesla1.selfdriving()\n",
    "tesla1.drive()"
   ]
  },
  {
   "cell_type": "code",
   "execution_count": null,
   "metadata": {},
   "outputs": [],
   "source": [
    "# Inheritance\n",
    "# Example of multiple inheritance"
   ]
  },
  {
   "cell_type": "code",
   "execution_count": 43,
   "metadata": {},
   "outputs": [
    {
     "name": "stdout",
     "output_type": "stream",
     "text": [
      "Your are talking about carnivorus bird\n",
      "You are talking about a bird\n"
     ]
    }
   ],
   "source": [
    "class Animal:\n",
    "    def __init__(self, has_wings, herbivorus):\n",
    "        self.has_wings = has_wings\n",
    "        self.herbivorus = herbivorus\n",
    "\n",
    "    def animal(self):\n",
    "        if self.has_wings == True:\n",
    "            if self.herbivorus == True:\n",
    "                print(f\"You are talking about a bird\")\n",
    "            else:\n",
    "                print(f\"You are talking about an animal\")\n",
    "\n",
    "        else:\n",
    "            print(\"Your are talking about carnivorus bird\")"
   ]
  },
  {
   "cell_type": "code",
   "execution_count": 44,
   "metadata": {},
   "outputs": [
    {
     "name": "stdout",
     "output_type": "stream",
     "text": [
      "Your are talking about carnivorus bird\n"
     ]
    }
   ],
   "source": [
    "cow = Animal(False, True)\n",
    "cow.animal()"
   ]
  },
  {
   "cell_type": "code",
   "execution_count": 45,
   "metadata": {},
   "outputs": [
    {
     "name": "stdout",
     "output_type": "stream",
     "text": [
      "You are talking about a bird\n"
     ]
    }
   ],
   "source": [
    "bird = Animal(True, True)\n",
    "bird.animal()"
   ]
  },
  {
   "cell_type": "code",
   "execution_count": null,
   "metadata": {},
   "outputs": [],
   "source": []
  }
 ],
 "metadata": {
  "kernelspec": {
   "display_name": "Python 3",
   "language": "python",
   "name": "python3"
  },
  "language_info": {
   "codemirror_mode": {
    "name": "ipython",
    "version": 3
   },
   "file_extension": ".py",
   "mimetype": "text/x-python",
   "name": "python",
   "nbconvert_exporter": "python",
   "pygments_lexer": "ipython3",
   "version": "3.9.7"
  },
  "orig_nbformat": 4
 },
 "nbformat": 4,
 "nbformat_minor": 2
}
