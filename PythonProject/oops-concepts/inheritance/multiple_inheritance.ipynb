{
 "cells": [
  {
   "cell_type": "code",
   "execution_count": 26,
   "metadata": {},
   "outputs": [],
   "source": [
    "# This is an example of (Single inheritance)\n",
    "\n",
    "\n",
    "class Father:\n",
    "    # Initilize a constructor\n",
    "    def __init__(self, land, house):\n",
    "        self.land = land\n",
    "        self.house = house\n",
    "\n",
    "    def my_son_inherits(self):\n",
    "        print(f\"My son will inherit my {self.land} and {self.house}\")"
   ]
  },
  {
   "cell_type": "code",
   "execution_count": 15,
   "metadata": {},
   "outputs": [
    {
     "name": "stdout",
     "output_type": "stream",
     "text": [
      "My son will inherit my Agricultural land and House\n"
     ]
    }
   ],
   "source": [
    "father_property = Father(\"Agricultural land\", \"House\")\n",
    "father_property.my_son_inherits()"
   ]
  },
  {
   "cell_type": "code",
   "execution_count": 7,
   "metadata": {},
   "outputs": [
    {
     "ename": "AttributeError",
     "evalue": "'Son' object has no attribute 'land'",
     "output_type": "error",
     "traceback": [
      "\u001b[0;31m---------------------------------------------------------------------------\u001b[0m",
      "\u001b[0;31mAttributeError\u001b[0m                            Traceback (most recent call last)",
      "\u001b[0;32m/var/folders/3s/741zy__53cdgvsbv2zvpy2m80000gp/T/ipykernel_10642/639489571.py\u001b[0m in \u001b[0;36m<module>\u001b[0;34m\u001b[0m\n\u001b[1;32m      1\u001b[0m \u001b[0mson\u001b[0m \u001b[0;34m=\u001b[0m \u001b[0mSon\u001b[0m\u001b[0;34m(\u001b[0m\u001b[0;34m\"ITC business\"\u001b[0m\u001b[0;34m,\u001b[0m \u001b[0;34m\"Cadillac\"\u001b[0m\u001b[0;34m)\u001b[0m\u001b[0;34m\u001b[0m\u001b[0;34m\u001b[0m\u001b[0m\n\u001b[0;32m----> 2\u001b[0;31m \u001b[0mson\u001b[0m\u001b[0;34m.\u001b[0m\u001b[0minherit_father_property\u001b[0m\u001b[0;34m(\u001b[0m\u001b[0;34m)\u001b[0m\u001b[0;34m\u001b[0m\u001b[0;34m\u001b[0m\u001b[0m\n\u001b[0m",
      "\u001b[0;32m/var/folders/3s/741zy__53cdgvsbv2zvpy2m80000gp/T/ipykernel_10642/2783769432.py\u001b[0m in \u001b[0;36minherit_father_property\u001b[0;34m(self)\u001b[0m\n\u001b[1;32m     18\u001b[0m     \u001b[0;32mdef\u001b[0m \u001b[0minherit_father_property\u001b[0m\u001b[0;34m(\u001b[0m\u001b[0mself\u001b[0m\u001b[0;34m)\u001b[0m\u001b[0;34m:\u001b[0m\u001b[0;34m\u001b[0m\u001b[0;34m\u001b[0m\u001b[0m\n\u001b[1;32m     19\u001b[0m         print(\n\u001b[0;32m---> 20\u001b[0;31m             f\"I will own my fathers assests such as {self.land}, {self.house} along with my own assests like {self.business} and {self.cars}\")\n\u001b[0m\u001b[1;32m     21\u001b[0m \u001b[0;34m\u001b[0m\u001b[0m\n\u001b[1;32m     22\u001b[0m \u001b[0;34m\u001b[0m\u001b[0m\n",
      "\u001b[0;31mAttributeError\u001b[0m: 'Son' object has no attribute 'land'"
     ]
    }
   ],
   "source": [
    "son = Son(\"ITC business\", \"Cadillac\")\n",
    "son.inherit_father_property()"
   ]
  },
  {
   "cell_type": "code",
   "execution_count": 23,
   "metadata": {},
   "outputs": [],
   "source": [
    "class Son(Father):\n",
    "    def __init__(self, land, house, business, cars):\n",
    "        super().__init__(land, house)\n",
    "        self.business = business\n",
    "        self.cars = cars\n",
    "\n",
    "    def inherit_father_property(self):\n",
    "        print(\n",
    "            f\"I will own my fathers assests such as {self.land}, {self.house} along with my own assests like {self.business} and {self.cars} car\")"
   ]
  },
  {
   "cell_type": "code",
   "execution_count": 24,
   "metadata": {},
   "outputs": [
    {
     "name": "stdout",
     "output_type": "stream",
     "text": [
      "I will own my fathers assests such as Agricultural land, 5 Storey house along with my own assests like ITC business and Cadillac car\n"
     ]
    }
   ],
   "source": [
    "son = Son(\"Agricultural land\", \"5 Storey house\", \"ITC business\", \"Cadillac\")\n",
    "son.inherit_father_property()"
   ]
  },
  {
   "cell_type": "code",
   "execution_count": 25,
   "metadata": {},
   "outputs": [
    {
     "name": "stdout",
     "output_type": "stream",
     "text": [
      "My son will inherit my Agricultural land and 5 Storey house\n"
     ]
    }
   ],
   "source": [
    "son.my_son_inherits()"
   ]
  },
  {
   "cell_type": "code",
   "execution_count": 28,
   "metadata": {},
   "outputs": [],
   "source": [
    "class GrandSon:\n",
    "    def __init__(self, startup, company_assets):\n",
    "        self.startup = startup\n",
    "        self.company_assets = company_assets\n",
    "\n",
    "    def father_son_grandson(self):\n",
    "        print(f\"I will own my {self.startup}, {self.company_assets} and will inherit my father's assests such as {self.business}, {self.cars} and my grandfather's assests such as {self.land} and {self.house}\")"
   ]
  },
  {
   "cell_type": "code",
   "execution_count": 29,
   "metadata": {},
   "outputs": [
    {
     "ename": "AttributeError",
     "evalue": "'GrandSon' object has no attribute 'business'",
     "output_type": "error",
     "traceback": [
      "\u001b[0;31m---------------------------------------------------------------------------\u001b[0m",
      "\u001b[0;31mAttributeError\u001b[0m                            Traceback (most recent call last)",
      "\u001b[0;32m/var/folders/3s/741zy__53cdgvsbv2zvpy2m80000gp/T/ipykernel_10642/3511798002.py\u001b[0m in \u001b[0;36m<module>\u001b[0;34m\u001b[0m\n\u001b[1;32m      1\u001b[0m \u001b[0mgrandson\u001b[0m \u001b[0;34m=\u001b[0m \u001b[0mGrandSon\u001b[0m\u001b[0;34m(\u001b[0m\u001b[0;34m\"Angel technologies pvt ltd\"\u001b[0m\u001b[0;34m,\u001b[0m \u001b[0;34m\"Company assests\"\u001b[0m\u001b[0;34m)\u001b[0m\u001b[0;34m\u001b[0m\u001b[0;34m\u001b[0m\u001b[0m\n\u001b[0;32m----> 2\u001b[0;31m \u001b[0mgrandson\u001b[0m\u001b[0;34m.\u001b[0m\u001b[0mfather_son_grandson\u001b[0m\u001b[0;34m(\u001b[0m\u001b[0;34m)\u001b[0m\u001b[0;34m\u001b[0m\u001b[0;34m\u001b[0m\u001b[0m\n\u001b[0m",
      "\u001b[0;32m/var/folders/3s/741zy__53cdgvsbv2zvpy2m80000gp/T/ipykernel_10642/1378706256.py\u001b[0m in \u001b[0;36mfather_son_grandson\u001b[0;34m(self)\u001b[0m\n\u001b[1;32m      6\u001b[0m \u001b[0;34m\u001b[0m\u001b[0m\n\u001b[1;32m      7\u001b[0m     \u001b[0;32mdef\u001b[0m \u001b[0mfather_son_grandson\u001b[0m\u001b[0;34m(\u001b[0m\u001b[0mself\u001b[0m\u001b[0;34m)\u001b[0m\u001b[0;34m:\u001b[0m\u001b[0;34m\u001b[0m\u001b[0;34m\u001b[0m\u001b[0m\n\u001b[0;32m----> 8\u001b[0;31m         \u001b[0mprint\u001b[0m\u001b[0;34m(\u001b[0m\u001b[0;34mf\"I will own my {self.startup}, {self.company_assets} and will inherit my father's assests such as {self.business}, {self.cars} and my grandfather's assests such as {self.land} and {self.house}\"\u001b[0m\u001b[0;34m)\u001b[0m\u001b[0;34m\u001b[0m\u001b[0;34m\u001b[0m\u001b[0m\n\u001b[0m",
      "\u001b[0;31mAttributeError\u001b[0m: 'GrandSon' object has no attribute 'business'"
     ]
    }
   ],
   "source": [
    "grandson = GrandSon(\"Angel technologies pvt ltd\", \"Company assests\")\n",
    "grandson.father_son_grandson()"
   ]
  },
  {
   "cell_type": "code",
   "execution_count": 37,
   "metadata": {},
   "outputs": [],
   "source": [
    "# Multiple inheritance\n",
    "# When a class inherits from more than one base class\n",
    "\n",
    "class Animal:               # Base class 1\n",
    "    def __init__(self, name):\n",
    "        self.name = name\n",
    "\n",
    "    def speak(self):\n",
    "        print(\"Subclass must implement this method\")\n",
    "\n",
    "\n",
    "class Pet:                    # Base class 2\n",
    "    def __init__(self, owner):\n",
    "        self.owner = owner\n",
    "\n",
    "\n",
    "class Dog(Animal, Pet):\n",
    "    def __init__(self, name, owner):\n",
    "        Animal.__init__(self, name)\n",
    "        Pet.__init__(self, owner)\n",
    "\n",
    "    def speak(self):\n",
    "        return f\"{self.name} says woof\""
   ]
  },
  {
   "cell_type": "code",
   "execution_count": 38,
   "metadata": {},
   "outputs": [
    {
     "name": "stdout",
     "output_type": "stream",
     "text": [
      "Buddy says woof\n"
     ]
    }
   ],
   "source": [
    "# create an object\n",
    "dog = Dog(\"Buddy\", \"John\")\n",
    "print(dog.speak())"
   ]
  },
  {
   "cell_type": "code",
   "execution_count": 41,
   "metadata": {},
   "outputs": [],
   "source": [
    "# This is an example of (Single inheritance)\n",
    "\n",
    "\n",
    "class Father:\n",
    "    # Initilize a constructor\n",
    "    def __init__(self, land, house):\n",
    "        self.land = land\n",
    "        self.house = house\n",
    "\n",
    "    def my_son_inherits(self):\n",
    "        print(f\"My son will inherit my {self.land} and {self.house}\")\n",
    "\n",
    "\n",
    "class Son(Father):\n",
    "    def __init__(self, land, house, business, cars):\n",
    "        super().__init__(land, house)\n",
    "        self.business = business\n",
    "        self.cars = cars\n",
    "\n",
    "    def inherit_father_property(self):\n",
    "        print(\n",
    "            f\"I will own my fathers assests such as {self.land}, {self.house} along with my own assests like {self.business} and {self.cars} car\")\n",
    "\n",
    "\n",
    "class GrandSon(Father, Son):\n",
    "    def __init__(self, startup, company_assets):\n",
    "        self.startup = startup\n",
    "        self.company_assets = company_assets\n",
    "\n",
    "    def father_son_grandson(self):\n",
    "        print(f\"I will own my {self.startup}, {self.company_assets} and will inherit my father's assests such as {self.business}, {self.cars} and my grandfather's assests such as {self.land} and {self.house}\")"
   ]
  },
  {
   "cell_type": "code",
   "execution_count": 42,
   "metadata": {},
   "outputs": [],
   "source": [
    "# This is an example of (Single inheritance)\n",
    "\n",
    "\n",
    "class Father:\n",
    "    # Initilize a constructor\n",
    "    def __init__(self, land, house):\n",
    "        self.land = land\n",
    "        self.house = house\n",
    "\n",
    "    def my_son_inherits(self):\n",
    "        print(f\"My son will inherit my {self.land} and {self.house}\")\n",
    "\n",
    "\n",
    "class Son():\n",
    "    def __init__(self, business, cars):\n",
    "        self.business = business\n",
    "        self.cars = cars\n",
    "\n",
    "    def inherit_father_property(self):\n",
    "        print(\n",
    "            f\"I will own my fathers assests such as {self.land}, {self.house} along with my own assests like {self.business} and {self.cars} car\")\n",
    "\n",
    "\n",
    "class GrandSon(Father, Son):\n",
    "    def __init__(self, land, house, business, cars, startup, company_assets):\n",
    "        Father.__init__(self, land, house)\n",
    "        Son.__init__(self, business, cars)\n",
    "        self.startup = startup\n",
    "        self.company_assets = company_assets\n",
    "\n",
    "    def father_son_grandson(self):\n",
    "        print(f\"I will own my {self.startup}, {self.company_assets} and will inherit my father's assests such as {self.business}, {self.cars} and my grandfather's assests such as {self.land} and {self.house}\")"
   ]
  },
  {
   "cell_type": "code",
   "execution_count": 43,
   "metadata": {},
   "outputs": [
    {
     "name": "stdout",
     "output_type": "stream",
     "text": [
      "I will own my Angel startup, Company assests and will inherit my father's assests such as ITC Business, Cadillac and my grandfather's assests such as Agricultural Land and 4 Storey House\n"
     ]
    }
   ],
   "source": [
    "inheritance1 = GrandSon(\"Agricultural Land\", \"4 Storey House\",\n",
    "                        \"ITC Business\", \"Cadillac\", \"Angel startup\", \"Company assests\")\n",
    "inheritance1.father_son_grandson()"
   ]
  },
  {
   "cell_type": "code",
   "execution_count": null,
   "metadata": {},
   "outputs": [],
   "source": []
  }
 ],
 "metadata": {
  "kernelspec": {
   "display_name": "Python 3",
   "language": "python",
   "name": "python3"
  },
  "language_info": {
   "codemirror_mode": {
    "name": "ipython",
    "version": 3
   },
   "file_extension": ".py",
   "mimetype": "text/x-python",
   "name": "python",
   "nbconvert_exporter": "python",
   "pygments_lexer": "ipython3",
   "version": "3.9.7"
  },
  "orig_nbformat": 4
 },
 "nbformat": 4,
 "nbformat_minor": 2
}
