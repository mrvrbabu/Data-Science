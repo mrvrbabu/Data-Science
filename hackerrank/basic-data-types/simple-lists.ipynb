{
 "cells": [
  {
   "cell_type": "code",
   "execution_count": 1,
   "id": "d4adad15",
   "metadata": {},
   "outputs": [],
   "source": [
    "to_do_list = [\"pay bills\", \"set up meeting\", \"buy groceries\"]"
   ]
  },
  {
   "cell_type": "code",
   "execution_count": 2,
   "id": "4ab4e91f",
   "metadata": {},
   "outputs": [
    {
     "name": "stdout",
     "output_type": "stream",
     "text": [
      "['pay bills', 'set up meeting', 'buy groceries']\n"
     ]
    }
   ],
   "source": [
    "print(to_do_list)"
   ]
  },
  {
   "cell_type": "code",
   "execution_count": 3,
   "id": "955b6c8b",
   "metadata": {},
   "outputs": [],
   "source": [
    "to_do_list.append(\"pick kids\")"
   ]
  },
  {
   "cell_type": "code",
   "execution_count": 4,
   "id": "f0b579fd",
   "metadata": {},
   "outputs": [],
   "source": [
    "to_do_list.append(\"meet friend\")"
   ]
  },
  {
   "cell_type": "code",
   "execution_count": 5,
   "id": "97710a82",
   "metadata": {},
   "outputs": [
    {
     "name": "stdout",
     "output_type": "stream",
     "text": [
      "['pay bills', 'set up meeting', 'buy groceries', 'pick kids', 'meet friend']\n"
     ]
    }
   ],
   "source": [
    "print(to_do_list)"
   ]
  },
  {
   "cell_type": "code",
   "execution_count": 9,
   "id": "f3f88b42",
   "metadata": {},
   "outputs": [
    {
     "name": "stdout",
     "output_type": "stream",
     "text": [
      "Please pay you bills\n",
      "Please pay you bills\n",
      "Please pay you bills\n",
      "Please pay you bills\n",
      "Please pay you bills\n"
     ]
    }
   ],
   "source": [
    "item = 'bills'\n",
    "for item in to_do_list:\n",
    "    if item in to_do_list:\n",
    "        print(\"Please pay you bills\")\n",
    "    else:\n",
    "        print(\"Bills already paid\")"
   ]
  },
  {
   "cell_type": "code",
   "execution_count": 10,
   "id": "3b0b9611",
   "metadata": {},
   "outputs": [],
   "source": [
    "inventory = ['Apple', 'Mango', 'Pineapple', 'Banana']"
   ]
  },
  {
   "cell_type": "code",
   "execution_count": 11,
   "id": "72dbdff1",
   "metadata": {},
   "outputs": [
    {
     "name": "stdout",
     "output_type": "stream",
     "text": [
      "['Apple', 'Mango', 'Pineapple', 'Banana']\n"
     ]
    }
   ],
   "source": [
    "print(inventory)"
   ]
  },
  {
   "cell_type": "code",
   "execution_count": 12,
   "id": "f8cbfa34",
   "metadata": {},
   "outputs": [
    {
     "name": "stdout",
     "output_type": "stream",
     "text": [
      "Stock available\n"
     ]
    }
   ],
   "source": [
    "if 'Mango' in inventory:\n",
    "    print(\"Stock available\")"
   ]
  },
  {
   "cell_type": "code",
   "execution_count": 16,
   "id": "80d410c3",
   "metadata": {},
   "outputs": [
    {
     "name": "stdout",
     "output_type": "stream",
     "text": [
      "Mango - Stock available\n"
     ]
    }
   ],
   "source": [
    "#item = 'Papaya'\n",
    "item = 'Mango'\n",
    "if item in inventory:\n",
    "    print(f\"{item } - Stock available\")\n",
    "else:\n",
    "    print(f\"{item} -  Not available\")"
   ]
  },
  {
   "cell_type": "code",
   "execution_count": 17,
   "id": "4276ed7e",
   "metadata": {},
   "outputs": [],
   "source": [
    "my_todos = [\"Buy Groceries\", \"Clean the house\", \"Pay Bills\"]\n",
    "\n",
    "## Add task to do list \n",
    "my_todos.append(\"Pick Kids\")\n",
    "\n"
   ]
  },
  {
   "cell_type": "code",
   "execution_count": 18,
   "id": "432afe48",
   "metadata": {},
   "outputs": [],
   "source": [
    "my_todos.append(\"Go to Gym\")"
   ]
  },
  {
   "cell_type": "code",
   "execution_count": 19,
   "id": "ee31749a",
   "metadata": {},
   "outputs": [
    {
     "name": "stdout",
     "output_type": "stream",
     "text": [
      "['Buy Groceries', 'Clean the house', 'Pay Bills', 'Pick Kids', 'Go to Gym']\n"
     ]
    }
   ],
   "source": [
    "print(my_todos)"
   ]
  },
  {
   "cell_type": "code",
   "execution_count": 20,
   "id": "c934d689",
   "metadata": {},
   "outputs": [],
   "source": [
    "my_todos.append(\"Schedule meeting\")"
   ]
  },
  {
   "cell_type": "code",
   "execution_count": 21,
   "id": "522fbef0",
   "metadata": {},
   "outputs": [
    {
     "name": "stdout",
     "output_type": "stream",
     "text": [
      "['Buy Groceries', 'Clean the house', 'Pay Bills', 'Pick Kids', 'Go to Gym', 'Schedule meeting']\n"
     ]
    }
   ],
   "source": [
    "print(my_todos)"
   ]
  },
  {
   "cell_type": "code",
   "execution_count": 30,
   "id": "7ee2a721",
   "metadata": {},
   "outputs": [
    {
     "name": "stdout",
     "output_type": "stream",
     "text": [
      "Pay Bills please\n",
      "\n",
      "Task in my todos: \n",
      "\n",
      "- Buy Groceries\n",
      "- Pay Bills\n",
      "- Pick Kids\n",
      "- Go to Gym\n",
      "- Schedule meeting\n"
     ]
    }
   ],
   "source": [
    "## Remove a task \n",
    "#my_todos.remove(\"Clean the house\")\n",
    "\n",
    "## Checking if task is in the list \n",
    "\n",
    "task = 'Pay Bills'\n",
    "if task in my_todos:\n",
    "    print(f\"{task} please\\n\")\n",
    "\n",
    "print(\"Task in my todos: \\n\")\n",
    "for items in my_todos:\n",
    "    print(f\"- {items}\")\n"
   ]
  },
  {
   "cell_type": "code",
   "execution_count": 23,
   "id": "4203d98b",
   "metadata": {},
   "outputs": [
    {
     "name": "stdout",
     "output_type": "stream",
     "text": [
      "['Buy Groceries', 'Pay Bills', 'Pick Kids', 'Go to Gym', 'Schedule meeting']\n"
     ]
    }
   ],
   "source": [
    "print(my_todos)"
   ]
  },
  {
   "cell_type": "markdown",
   "id": "9c9b1c43",
   "metadata": {},
   "source": [
    "# Exmaple 2: Organizing Student Grades\n",
    "\n",
    "        * Create list to store and calculate average grades for students"
   ]
  },
  {
   "cell_type": "markdown",
   "id": "3d733849",
   "metadata": {},
   "source": []
  },
  {
   "cell_type": "code",
   "execution_count": 35,
   "id": "a7147529",
   "metadata": {},
   "outputs": [
    {
     "name": "stdout",
     "output_type": "stream",
     "text": [
      "Average Grade: 8.8e+01\n",
      "Higest grade is 95\n",
      "Lowest grade is 78\n"
     ]
    }
   ],
   "source": [
    "## Organizing student grades \n",
    "grades = [85, 92, 78, 90, 88]\n",
    "\n",
    "# Adding a new grade \n",
    "grades.append(95) \n",
    "\n",
    "# Calculating the average of grade \n",
    "average_grade = sum(grades) / len(grades)\n",
    "\n",
    "print(f\"Average Grade: {average_grade:.2}\")\n",
    "\n",
    "# Finding the highest and lowest grades \n",
    "highest_grade = max(grades)\n",
    "lowest_grade = min(grades)\n",
    "\n",
    "print(f\"Higest grade is {highest_grade}\")\n",
    "print(f\"Lowest grade is {lowest_grade}\")\n",
    "\n"
   ]
  },
  {
   "cell_type": "markdown",
   "id": "90b759da",
   "metadata": {},
   "source": [
    "## Example 3: Managing An Inventory \n",
    "* Use a list to manage inventory items in a stoge"
   ]
  },
  {
   "cell_type": "markdown",
   "id": "9400170e",
   "metadata": {},
   "source": []
  },
  {
   "cell_type": "code",
   "execution_count": 43,
   "id": "053d446b",
   "metadata": {},
   "outputs": [
    {
     "name": "stdout",
     "output_type": "stream",
     "text": [
      "Inventory List\n",
      "apples\n",
      "bananas\n",
      "oranges\n",
      "grapes\n",
      "Strawberries added to inventory list\n",
      "\n",
      "Inventory List\n",
      "apples\n",
      "bananas\n",
      "oranges\n",
      "grapes\n",
      "strawberries\n",
      "banana removed from stock\n",
      "\n",
      "Inventory List\n",
      "apples\n",
      "oranges\n",
      "grapes\n",
      "strawberries\n",
      "oranges are in stock.\n",
      "Inventory List\n",
      "apples\n",
      "oranges\n",
      "grapes\n",
      "strawberries\n"
     ]
    }
   ],
   "source": [
    "# Managing an inventory \n",
    "inventory = [\"apples\", \"bananas\", \"oranges\", \"grapes\"]\n",
    "print(\"Inventory List\")\n",
    "for item in inventory:\n",
    "    print(item)\n",
    "\n",
    "# Adding a new item \n",
    "inventory.append(\"strawberries\")\n",
    "print(\"Strawberries added to inventory list\\n\")\n",
    "print(\"Inventory List\")\n",
    "for item in inventory:\n",
    "    print(item)\n",
    "\n",
    "# Removing an item that is out of stock\n",
    "inventory.remove(\"bananas\")\n",
    "print(\"banana removed from stock\\n\")\n",
    "print(\"Inventory List\")\n",
    "for item in inventory:\n",
    "    print(item)\n",
    "\n",
    "\n",
    "# Checking if an item is in stock \n",
    "item = \"oranges\"\n",
    "if item in inventory:\n",
    "    print(f\"{item} are in stock.\")\n",
    "else:\n",
    "    print(f\"{item} out of stock\")\n",
    "\n",
    "# Printing inventory list \n",
    "print(\"Inventory List\")\n",
    "for item in inventory:\n",
    "    print(item)\n",
    "\n"
   ]
  },
  {
   "cell_type": "code",
   "execution_count": null,
   "id": "0eda2eb6",
   "metadata": {},
   "outputs": [],
   "source": []
  },
  {
   "cell_type": "markdown",
   "id": "70eecc05",
   "metadata": {},
   "source": [
    "## Example 4: Collecting User Feedback \n",
    "\n",
    "* Use a list to collect and analyse user feedback "
   ]
  },
  {
   "cell_type": "code",
   "execution_count": null,
   "id": "63e98908",
   "metadata": {},
   "outputs": [
    {
     "name": "stdout",
     "output_type": "stream",
     "text": [
      "Feedback list\n",
      "- Great Service!\n",
      "- Very satisfied\n",
      "- Could be better\n",
      "- Excellent experience\n",
      "- Not happy with the service\n",
      "Positive feed back count is : 2\n"
     ]
    }
   ],
   "source": [
    "# Collecting user feedback \n",
    "feedback = [\"Great Service!\", \"Very satisfied\", \"Could be better\", \"Excellent experience\"]\n",
    "\n",
    "# Adding new feeback \n",
    "feedback.append(\"Not happy with the service\")\n",
    "\n",
    "print(\"Feedback list\")\n",
    "for item in feedback:\n",
    "    print(f\"- { item }\")\n",
    "\n",
    "positive_feedback_count = sum(1 for comment in feedback if \"great\" in comment.lower() or \"excellent\" in comment.lower())\n",
    "print(f\"Positive feed back count is : {positive_feedback_count}\")\n",
    "\n"
   ]
  },
  {
   "cell_type": "code",
   "execution_count": 71,
   "id": "21bd981c",
   "metadata": {},
   "outputs": [
    {
     "name": "stdout",
     "output_type": "stream",
     "text": [
      "[1, 2, 3, 4, 5, 6, 7, 8, 9, 10]\n"
     ]
    }
   ],
   "source": [
    "nlist = list(map(int, input().split()))\n",
    "print(nlist)"
   ]
  },
  {
   "cell_type": "code",
   "execution_count": 48,
   "id": "bb09f355",
   "metadata": {},
   "outputs": [
    {
     "data": {
      "text/plain": [
       "list"
      ]
     },
     "execution_count": 48,
     "metadata": {},
     "output_type": "execute_result"
    }
   ],
   "source": [
    "type(nlist)"
   ]
  },
  {
   "cell_type": "code",
   "execution_count": 50,
   "id": "dd374399",
   "metadata": {},
   "outputs": [
    {
     "name": "stdout",
     "output_type": "stream",
     "text": [
      "[1, 2, 3, 4, 5, 6, 7, 8, 9, 1, 2, 3, 4, 5, 6, 7, 8, 9]\n"
     ]
    }
   ],
   "source": [
    "print(nlist)"
   ]
  },
  {
   "cell_type": "code",
   "execution_count": 51,
   "id": "2dda8c3b",
   "metadata": {},
   "outputs": [],
   "source": [
    "nlist[3] = 10"
   ]
  },
  {
   "cell_type": "code",
   "execution_count": 52,
   "id": "46fb8a8e",
   "metadata": {},
   "outputs": [
    {
     "name": "stdout",
     "output_type": "stream",
     "text": [
      "[1, 2, 3, 10, 5, 6, 7, 8, 9, 1, 2, 3, 4, 5, 6, 7, 8, 9]\n"
     ]
    }
   ],
   "source": [
    "print(nlist)"
   ]
  },
  {
   "cell_type": "code",
   "execution_count": 68,
   "id": "e9de0745",
   "metadata": {},
   "outputs": [],
   "source": [
    "# print(nlist)\n",
    "j = 8\n",
    "i = 0\n",
    "for i in nlist:\n",
    "    if nlist[i] == j:\n",
    "        print(nlist[i])\n",
    "        nlist.remove(i)\n",
    "        print(f\"{nlist[i]} removed\")\n",
    "        print(nlist)\n",
    "        break "
   ]
  },
  {
   "cell_type": "code",
   "execution_count": 72,
   "id": "08085297",
   "metadata": {},
   "outputs": [
    {
     "name": "stdout",
     "output_type": "stream",
     "text": [
      "8\n",
      "[1, 2, 3, 4, 5, 6, 7, 8, 9, 10]\n"
     ]
    }
   ],
   "source": [
    "j = 8\n",
    "i = 0\n",
    "for i in nlist:\n",
    "    if nlist[i] == j:\n",
    "        print(nlist[i])\n",
    "        # nlist.remove(i)\n",
    "        # print(f\"{nlist[i]} removed\")\n",
    "        print(nlist)\n",
    "        break "
   ]
  },
  {
   "cell_type": "code",
   "execution_count": 73,
   "id": "06ca7980",
   "metadata": {},
   "outputs": [
    {
     "name": "stdout",
     "output_type": "stream",
     "text": [
      "[1, 2, 3, 4, 5]\n"
     ]
    }
   ],
   "source": [
    "my_list = list(map(int, input().split()))\n",
    "print(my_list)"
   ]
  },
  {
   "cell_type": "code",
   "execution_count": 74,
   "id": "0952e2ad",
   "metadata": {},
   "outputs": [
    {
     "name": "stdout",
     "output_type": "stream",
     "text": [
      "[1, 2, 3, 4, 5, 1]\n"
     ]
    }
   ],
   "source": [
    "my_list.append(1)\n",
    "print(my_list)"
   ]
  },
  {
   "cell_type": "code",
   "execution_count": 75,
   "id": "44a47a11",
   "metadata": {},
   "outputs": [
    {
     "name": "stdout",
     "output_type": "stream",
     "text": [
      "[1, 2, 3, 4, 5, 1, 2]\n"
     ]
    }
   ],
   "source": [
    "my_list.append(2)\n",
    "print(my_list)"
   ]
  },
  {
   "cell_type": "code",
   "execution_count": 76,
   "id": "d21f6e9b",
   "metadata": {},
   "outputs": [
    {
     "name": "stdout",
     "output_type": "stream",
     "text": [
      "[1, 3, 3, 4, 5, 1, 2]\n"
     ]
    }
   ],
   "source": [
    "my_list[1] = 3\n",
    "print(my_list)"
   ]
  },
  {
   "cell_type": "code",
   "execution_count": null,
   "id": "69204cdb",
   "metadata": {},
   "outputs": [
    {
     "name": "stdout",
     "output_type": "stream",
     "text": [
      "5\n"
     ]
    }
   ],
   "source": [
    "my_list = list()\n",
    "N = int(input())\n",
    "print(N)\n",
    "j = 0\n",
    "for j in my_list:\n",
    "    if "
   ]
  },
  {
   "cell_type": "code",
   "execution_count": 109,
   "id": "cfc2f2f2",
   "metadata": {},
   "outputs": [
    {
     "name": "stdout",
     "output_type": "stream",
     "text": [
      "['insert', '0', '4']\n",
      "<class 'str'>\n",
      "<class 'str'>\n",
      "4\n",
      "<class 'int'>\n",
      "0\n"
     ]
    },
    {
     "ename": "IndexError",
     "evalue": "list assignment index out of range",
     "output_type": "error",
     "traceback": [
      "\u001b[0;31m---------------------------------------------------------------------------\u001b[0m",
      "\u001b[0;31mIndexError\u001b[0m                                Traceback (most recent call last)",
      "Cell \u001b[0;32mIn[109], line 17\u001b[0m\n\u001b[1;32m     15\u001b[0m \u001b[38;5;28mprint\u001b[39m(\u001b[38;5;28mtype\u001b[39m(j))\n\u001b[1;32m     16\u001b[0m \u001b[38;5;28mprint\u001b[39m(i)\n\u001b[0;32m---> 17\u001b[0m my_list[\u001b[38;5;241m0\u001b[39m] \u001b[38;5;241m=\u001b[39m \u001b[38;5;241m5\u001b[39m\n\u001b[1;32m     18\u001b[0m \u001b[38;5;28mprint\u001b[39m(my_list)\n",
      "\u001b[0;31mIndexError\u001b[0m: list assignment index out of range"
     ]
    }
   ],
   "source": [
    "my_list = list()\n",
    "# N = 0\n",
    "n = int(input())\n",
    "\n",
    "for i in range(n):\n",
    "    command = input().strip().split()\n",
    "    print(command)\n",
    "    \n",
    "    if command[0] == 'insert':\n",
    "        print(type(command[0]))\n",
    "        print(type(command[1]))\n",
    "        k = int(command[1])\n",
    "        j = int(command[2])\n",
    "        print(j)\n",
    "        print(type(j))\n",
    "        print(i)\n",
    "        my_list[0] = 5\n",
    "        print(my_list)\n",
    "        # my_list[i] = 5\n",
    "        # print(my_list)\n"
   ]
  },
  {
   "cell_type": "code",
   "execution_count": 104,
   "id": "4cc8710e",
   "metadata": {},
   "outputs": [
    {
     "ename": "IndexError",
     "evalue": "list assignment index out of range",
     "output_type": "error",
     "traceback": [
      "\u001b[0;31m---------------------------------------------------------------------------\u001b[0m",
      "\u001b[0;31mIndexError\u001b[0m                                Traceback (most recent call last)",
      "Cell \u001b[0;32mIn[104], line 4\u001b[0m\n\u001b[1;32m      2\u001b[0m my_list[\u001b[38;5;241m0\u001b[39m]\n\u001b[1;32m      3\u001b[0m \u001b[38;5;66;03m# my_list[3]\u001b[39;00m\n\u001b[0;32m----> 4\u001b[0m my_list[\u001b[38;5;241m7\u001b[39m] \u001b[38;5;241m=\u001b[39m \u001b[38;5;241m21\u001b[39m\n",
      "\u001b[0;31mIndexError\u001b[0m: list assignment index out of range"
     ]
    }
   ],
   "source": [
    "my_list = [10, 20, 30]\n",
    "my_list[0]\n",
    "# my_list[3]\n",
    "my_list[7] = 21"
   ]
  },
  {
   "cell_type": "code",
   "execution_count": 149,
   "id": "487fab79",
   "metadata": {},
   "outputs": [
    {
     "name": "stdout",
     "output_type": "stream",
     "text": [
      "[6, 5, 10]\n",
      "[1, 5, 9, 10]\n",
      "[9, 5, 1]\n"
     ]
    }
   ],
   "source": [
    "\n",
    "N = int(input())\n",
    "my_list = list()\n",
    "for i in range(N):\n",
    "    command = input().strip().split()\n",
    "    if command[0] == 'insert':\n",
    "        my_list.insert(int(command[1]), int(command[2]))\n",
    "    elif command[0] == 'remove':\n",
    "        my_list.remove(int(command[1]))\n",
    "    elif command[0] == 'append':\n",
    "        my_list.append(command[1])\n",
    "    elif command[0] == 'sort':\n",
    "        my_list.sort(key=int)\n",
    "        my_list = [int(s) for s in my_list]\n",
    "    elif command[0] == 'pop':\n",
    "        my_list.pop()\n",
    "    elif command[0] == 'reverse':\n",
    "        my_list.reverse()\n",
    "    elif command[0] == 'print':\n",
    "        print(my_list)\n"
   ]
  },
  {
   "cell_type": "code",
   "execution_count": 150,
   "id": "e83a5ecb",
   "metadata": {},
   "outputs": [
    {
     "name": "stdout",
     "output_type": "stream",
     "text": [
      "[6, 5, 10]\n",
      "[1, 5, 9, 10]\n",
      "[9, 5, 1]\n"
     ]
    }
   ],
   "source": [
    "N = int(input())\n",
    "my_list = []\n",
    "\n",
    "for _ in range(N):\n",
    "    command = input().strip().split()\n",
    "    if command[0] == 'insert':\n",
    "        my_list.insert(int(command[1]), int(command[2]))\n",
    "    elif command[0] == 'remove':\n",
    "        my_list.remove(int(command[1]))\n",
    "    elif command[0] == 'append':\n",
    "        my_list.append(int(command[1]))   \n",
    "    elif command[0] == 'sort':\n",
    "        my_list.sort()                    \n",
    "    elif command[0] == 'pop':\n",
    "        my_list.pop()\n",
    "    elif command[0] == 'reverse':\n",
    "        my_list.reverse()\n",
    "    elif command[0] == 'print':\n",
    "        print(my_list)\n"
   ]
  },
  {
   "cell_type": "code",
   "execution_count": null,
   "id": "59f37d69",
   "metadata": {},
   "outputs": [
    {
     "name": "stdout",
     "output_type": "stream",
     "text": [
      "[6, 5, 10]\n",
      "[1, 5, 9, 10]\n",
      "[9, 5, 1]\n"
     ]
    }
   ],
   "source": [
    "if __name__ == '__main__':\n",
    "    N = int(input())      \n",
    "    lst = []\n",
    "\n",
    "    for _ in range(N):\n",
    "        command = input().split()\n",
    "        cmd = command[0]\n",
    "        args = command[1:]\n",
    "\n",
    "        if cmd == \"insert\":\n",
    "            i, e = map(int, args)\n",
    "            lst.insert(i, e)\n",
    "        elif cmd == \"print\":\n",
    "            print(lst)\n",
    "        elif cmd == \"remove\":\n",
    "            e = int(args[0])\n",
    "            lst.remove(e)\n",
    "        elif cmd == \"append\":\n",
    "            e = int(args[0])\n",
    "            lst.append(e)\n",
    "        elif cmd == \"sort\":\n",
    "            lst.sort()\n",
    "        elif cmd == \"pop\":\n",
    "            lst.pop()\n",
    "        elif cmd == \"reverse\":\n",
    "            lst.reverse()\n"
   ]
  },
  {
   "cell_type": "code",
   "execution_count": null,
   "id": "74f10078",
   "metadata": {},
   "outputs": [],
   "source": []
  }
 ],
 "metadata": {
  "kernelspec": {
   "display_name": "base",
   "language": "python",
   "name": "python3"
  },
  "language_info": {
   "codemirror_mode": {
    "name": "ipython",
    "version": 3
   },
   "file_extension": ".py",
   "mimetype": "text/x-python",
   "name": "python",
   "nbconvert_exporter": "python",
   "pygments_lexer": "ipython3",
   "version": "3.10.9"
  }
 },
 "nbformat": 4,
 "nbformat_minor": 5
}
