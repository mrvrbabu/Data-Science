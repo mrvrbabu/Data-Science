{
 "cells": [
  {
   "cell_type": "code",
   "execution_count": 1,
   "id": "64af5a89",
   "metadata": {},
   "outputs": [
    {
     "name": "stdout",
     "output_type": "stream",
     "text": [
      "2\n"
     ]
    }
   ],
   "source": [
    "print(1 + 1)"
   ]
  },
  {
   "cell_type": "code",
   "execution_count": 2,
   "id": "0962377d",
   "metadata": {},
   "outputs": [
    {
     "name": "stdout",
     "output_type": "stream",
     "text": [
      "total 24\n",
      "-rw-r--r--  1 ramesh.babu  staff     0 Sep  8 11:27 duplicates_removal.ipynb\n",
      "-rw-r--r--  1 ramesh.babu  staff  1287 Sep  8 11:39 original-requirements.txt\n",
      "-rw-r--r--  1 ramesh.babu  staff  6435 Sep  8 11:39 requirements.txt\n",
      "drwxr-xr-x  6 ramesh.babu  staff   192 Sep  8 11:26 \u001b[34mvenv\u001b[m\u001b[m/\n"
     ]
    }
   ],
   "source": [
    "ls - l"
   ]
  },
  {
   "cell_type": "code",
   "execution_count": 4,
   "id": "09e1b58d",
   "metadata": {},
   "outputs": [
    {
     "ename": "SyntaxError",
     "evalue": "incomplete input (1759372561.py, line 4)",
     "output_type": "error",
     "traceback": [
      "\u001b[0;36m  Cell \u001b[0;32mIn[4], line 4\u001b[0;36m\u001b[0m\n\u001b[0;31m    with open('requirements.txt-output', 'w') as outfile:\u001b[0m\n\u001b[0m                                                         ^\u001b[0m\n\u001b[0;31mSyntaxError\u001b[0m\u001b[0;31m:\u001b[0m incomplete input\n"
     ]
    }
   ],
   "source": [
    "with open('requirements.txt', 'r') as file:\n",
    "    lines = file.readlines()\n",
    "    unique_lines = set(lines)\n",
    "    with open('requirements.txt-output', 'w') as outfile:"
   ]
  },
  {
   "cell_type": "code",
   "execution_count": 7,
   "id": "94223087",
   "metadata": {},
   "outputs": [
    {
     "name": "stdout",
     "output_type": "stream",
     "text": [
      "['azure-cosmos==4.3.1\\n', '# azure-storage-blob==12.18.3\\n', 'beautifulsoup4==4.12.0\\n', 'cx-Oracle==8.3.0\\n', 'azure-cosmos==4.3.1\\n', 'docker==6.0.1\\n', 'azure-cosmos==4.3.1\\n', 'flask_bcrypt==1.0.1\\n', 'happybase==1.2.0\\n', 'hdfs==2.7.0\\n', '#importlib==1.0.4\\n', '#impyla==0.18.0\\n', 'JayDeBeApi==1.2.3\\n', 'JPype1==1.4.1\\n', 'ldap3==2.9.1\\n', 'lxml==4.9.2\\n', 'marketorestpython==0.5.23\\n', 'ntlm-auth==1.5.0\\n', 'numpy==1.24.2\\n', 'Office365-REST-Python-Client==2.4.0\\n', 'openpyxl==3.1.2\\n', 'pandas==1.5.3\\n', 'paramiko==3.1.0\\n', 'pyasn1==0.4.8\\n', 'PyHive==0.6.5\\n', 'pymssql==2.2.7\\n', 'pyodbc==4.0.35\\n', 'pyOpenSSL==23.0.0\\n', 'pysmb==1.2.8\\n', 'python-dateutil==2.8.2\\n', 'python-fmrest==1.6.0\\n', 'python-gnupg==0.5.0\\n', '#python-ldap==3.4.3     - not getting installed\\n', 'python-ntlm==1.1.0\\n', 'requests-ntlm==1.2.0\\n', 'sasl==0.3.1\\n', 'scikit-learn==1.2.2\\n', 'scipy==1.10.1\\n', 'selenium==4.8.2\\n', 'simple-salesforce==1.12.3\\n', 'thrift==0.16.0\\n', 'thriftpy2==0.4.16\\n', 'thrift-sasl==0.4.3\\n', 'zeep==4.2.1\\n', 'recurly==4.28.0\\n', 'marketorestpython==0.5.23\\n', 'snowflake-connector-python==3.0.2\\n', 'emoji==2.2.0\\n', 'configparser==6.0.0\\n', 'jupyter-client==8.0.3\\n', 'jupyter-core==5.3.0\\n', 'notebook==6.5.2\\n', 'jupyterhub==3.1.1\\n', 'jupyterlab==3.6.1\\n', 'jupyterlab_server==2.19.0\\n', 'jupyter_server==2.3.0\\n', 'jupyter-events==0.6.3\\n', 'jupyterhub-ldapauthenticator==1.3.2\\n', 'azure-storage-file-datalake==12.13.2\\n', 'apache-airflow-providers-snowflake==5.1.0\\n', 'pyarrow==14.0.0\\n', 'python-tss-sdk==1.2.2\\n', 'oracledb==2.0.1\\n', 'singlestoredb==1.3.1\\n', 'mysql-connector-python==8.4.0\\n', 'sqllineage==1.3.8\\n', 'azure-cosmos==4.3.1\\n', '# azure-storage-blob==12.18.3\\n', 'beautifulsoup4==4.12.0\\n', 'cx-Oracle==8.3.0\\n', 'docker==6.0.1\\n', 'flask_bcrypt==1.0.1\\n', 'happybase==1.2.0\\n', 'hdfs==2.7.0\\n', '#importlib==1.0.4\\n', '#impyla==0.18.0\\n', 'JayDeBeApi==1.2.3\\n', 'JPype1==1.4.1\\n', 'ldap3==2.9.1\\n', 'lxml==4.9.2\\n', 'marketorestpython==0.5.23\\n', 'ntlm-auth==1.5.0\\n', 'numpy==1.24.2\\n', 'Office365-REST-Python-Client==2.4.0\\n', 'openpyxl==3.1.2\\n', 'pandas==1.5.3\\n', 'paramiko==3.1.0\\n', 'pyasn1==0.4.8\\n', 'PyHive==0.6.5\\n', 'pymssql==2.2.7\\n', 'pyodbc==4.0.35\\n', 'pyOpenSSL==23.0.0\\n', 'pysmb==1.2.8\\n', 'python-dateutil==2.8.2\\n', 'python-fmrest==1.6.0\\n', 'python-gnupg==0.5.0\\n', '#python-ldap==3.4.3     - not getting installed\\n', 'python-ntlm==1.1.0\\n', 'requests-ntlm==1.2.0\\n', 'sasl==0.3.1\\n', 'scikit-learn==1.2.2\\n', 'scipy==1.10.1\\n', 'selenium==4.8.2\\n', 'simple-salesforce==1.12.3\\n', 'thrift==0.16.0\\n', 'thriftpy2==0.4.16\\n', 'thrift-sasl==0.4.3\\n', 'zeep==4.2.1\\n', 'recurly==4.28.0\\n', 'marketorestpython==0.5.23\\n', 'snowflake-connector-python==3.0.2\\n', 'emoji==2.2.0\\n', 'configparser==6.0.0\\n', 'jupyter-client==8.0.3\\n', 'jupyter-core==5.3.0\\n', 'notebook==6.5.2\\n', 'jupyterhub==3.1.1\\n', 'jupyterlab==3.6.1\\n', 'jupyterlab_server==2.19.0\\n', 'jupyter_server==2.3.0\\n', 'jupyter-events==0.6.3\\n', 'jupyterhub-ldapauthenticator==1.3.2\\n', 'azure-storage-file-datalake==12.13.2\\n', 'apache-airflow-providers-snowflake==5.1.0\\n', 'pyarrow==14.0.0\\n', 'python-tss-sdk==1.2.2\\n', 'oracledb==2.0.1\\n', 'singlestoredb==1.3.1\\n', 'mysql-connector-python==8.4.0\\n', 'sqllineage==1.3.8\\n', 'azure-cosmos==4.3.1\\n', '# azure-storage-blob==12.18.3\\n', 'beautifulsoup4==4.12.0\\n', 'cx-Oracle==8.3.0\\n', 'docker==6.0.1\\n', 'flask_bcrypt==1.0.1\\n', 'happybase==1.2.0\\n', 'hdfs==2.7.0\\n', '#importlib==1.0.4\\n', '#impyla==0.18.0\\n', 'JayDeBeApi==1.2.3\\n', 'JPype1==1.4.1\\n', 'ldap3==2.9.1\\n', 'lxml==4.9.2\\n', 'marketorestpython==0.5.23\\n', 'ntlm-auth==1.5.0\\n', 'numpy==1.24.2\\n', 'Office365-REST-Python-Client==2.4.0\\n', 'openpyxl==3.1.2\\n', 'pandas==1.5.3\\n', 'paramiko==3.1.0\\n', 'pyasn1==0.4.8\\n', 'PyHive==0.6.5\\n', 'pymssql==2.2.7\\n', 'pyodbc==4.0.35\\n', 'pyOpenSSL==23.0.0\\n', 'pysmb==1.2.8\\n', 'python-dateutil==2.8.2\\n', 'python-fmrest==1.6.0\\n', 'python-gnupg==0.5.0\\n', '#python-ldap==3.4.3     - not getting installed\\n', 'python-ntlm==1.1.0\\n', 'requests-ntlm==1.2.0\\n', 'sasl==0.3.1\\n', 'scikit-learn==1.2.2\\n', 'scipy==1.10.1\\n', 'selenium==4.8.2\\n', 'simple-salesforce==1.12.3\\n', 'thrift==0.16.0\\n', 'thriftpy2==0.4.16\\n', 'thrift-sasl==0.4.3\\n', 'zeep==4.2.1\\n', 'recurly==4.28.0\\n', 'marketorestpython==0.5.23\\n', 'snowflake-connector-python==3.0.2\\n', 'emoji==2.2.0\\n', 'configparser==6.0.0\\n', 'jupyter-client==8.0.3\\n', 'jupyter-core==5.3.0\\n', 'notebook==6.5.2\\n', 'jupyterhub==3.1.1\\n', 'jupyterlab==3.6.1\\n', 'jupyterlab_server==2.19.0\\n', 'jupyter_server==2.3.0\\n', 'jupyter-events==0.6.3\\n', 'jupyterhub-ldapauthenticator==1.3.2\\n', 'azure-storage-file-datalake==12.13.2\\n', 'apache-airflow-providers-snowflake==5.1.0\\n', 'pyarrow==14.0.0\\n', 'python-tss-sdk==1.2.2\\n', 'oracledb==2.0.1\\n', 'singlestoredb==1.3.1\\n', 'mysql-connector-python==8.4.0\\n', 'sqllineage==1.3.8\\n', 'azure-cosmos==4.3.1\\n', '# azure-storage-blob==12.18.3\\n', 'beautifulsoup4==4.12.0\\n', 'cx-Oracle==8.3.0\\n', 'docker==6.0.1\\n', 'flask_bcrypt==1.0.1\\n', 'happybase==1.2.0\\n', 'hdfs==2.7.0\\n', '#importlib==1.0.4\\n', '#impyla==0.18.0\\n', 'JayDeBeApi==1.2.3\\n', 'JPype1==1.4.1\\n', 'ldap3==2.9.1\\n', 'lxml==4.9.2\\n', 'marketorestpython==0.5.23\\n', 'ntlm-auth==1.5.0\\n', 'numpy==1.24.2\\n', 'Office365-REST-Python-Client==2.4.0\\n', 'openpyxl==3.1.2\\n', 'pandas==1.5.3\\n', 'paramiko==3.1.0\\n', 'pyasn1==0.4.8\\n', 'PyHive==0.6.5\\n', 'pymssql==2.2.7\\n', 'pyodbc==4.0.35\\n', 'pyOpenSSL==23.0.0\\n', 'pysmb==1.2.8\\n', 'python-dateutil==2.8.2\\n', 'python-fmrest==1.6.0\\n', 'python-gnupg==0.5.0\\n', '#python-ldap==3.4.3     - not getting installed\\n', 'python-ntlm==1.1.0\\n', 'requests-ntlm==1.2.0\\n', 'sasl==0.3.1\\n', 'scikit-learn==1.2.2\\n', 'scipy==1.10.1\\n', 'selenium==4.8.2\\n', 'simple-salesforce==1.12.3\\n', 'thrift==0.16.0\\n', 'thriftpy2==0.4.16\\n', 'thrift-sasl==0.4.3\\n', 'zeep==4.2.1\\n', 'recurly==4.28.0\\n', 'marketorestpython==0.5.23\\n', 'snowflake-connector-python==3.0.2\\n', 'emoji==2.2.0\\n', 'configparser==6.0.0\\n', 'jupyter-client==8.0.3\\n', 'jupyter-core==5.3.0\\n', 'notebook==6.5.2\\n', 'jupyterhub==3.1.1\\n', 'jupyterlab==3.6.1\\n', 'jupyterlab_server==2.19.0\\n', 'jupyter_server==2.3.0\\n', 'jupyter-events==0.6.3\\n', 'jupyterhub-ldapauthenticator==1.3.2\\n', 'azure-storage-file-datalake==12.13.2\\n', 'apache-airflow-providers-snowflake==5.1.0\\n', 'pyarrow==14.0.0\\n', 'python-tss-sdk==1.2.2\\n', 'oracledb==2.0.1\\n', 'singlestoredb==1.3.1\\n', 'mysql-connector-python==8.4.0\\n', 'sqllineage==1.3.8\\n', 'azure-cosmos==4.3.1\\n', '# azure-storage-blob==12.18.3\\n', 'beautifulsoup4==4.12.0\\n', 'cx-Oracle==8.3.0\\n', 'docker==6.0.1\\n', 'flask_bcrypt==1.0.1\\n', 'happybase==1.2.0\\n', 'hdfs==2.7.0\\n', '#importlib==1.0.4\\n', '#impyla==0.18.0\\n', 'JayDeBeApi==1.2.3\\n', 'JPype1==1.4.1\\n', 'ldap3==2.9.1\\n', 'lxml==4.9.2\\n', 'marketorestpython==0.5.23\\n', 'ntlm-auth==1.5.0\\n', 'numpy==1.24.2\\n', 'Office365-REST-Python-Client==2.4.0\\n', 'openpyxl==3.1.2\\n', 'pandas==1.5.3\\n', 'paramiko==3.1.0\\n', 'pyasn1==0.4.8\\n', 'PyHive==0.6.5\\n', 'pymssql==2.2.7\\n', 'pyodbc==4.0.35\\n', 'pyOpenSSL==23.0.0\\n', 'pysmb==1.2.8\\n', 'python-dateutil==2.8.2\\n', 'python-fmrest==1.6.0\\n', 'python-gnupg==0.5.0\\n', '#python-ldap==3.4.3     - not getting installed\\n', 'python-ntlm==1.1.0\\n', 'requests-ntlm==1.2.0\\n', 'sasl==0.3.1\\n', 'scikit-learn==1.2.2\\n', 'scipy==1.10.1\\n', 'selenium==4.8.2\\n', 'simple-salesforce==1.12.3\\n', 'thrift==0.16.0\\n', 'thriftpy2==0.4.16\\n', 'thrift-sasl==0.4.3\\n', 'zeep==4.2.1\\n', 'recurly==4.28.0\\n', 'marketorestpython==0.5.23\\n', 'snowflake-connector-python==3.0.2\\n', 'emoji==2.2.0\\n', 'configparser==6.0.0\\n', 'jupyter-client==8.0.3\\n', 'jupyter-core==5.3.0\\n', 'notebook==6.5.2\\n', 'jupyterhub==3.1.1\\n', 'jupyterlab==3.6.1\\n', 'jupyterlab_server==2.19.0\\n', 'jupyter_server==2.3.0\\n', 'jupyter-events==0.6.3\\n', 'jupyterhub-ldapauthenticator==1.3.2\\n', 'azure-storage-file-datalake==12.13.2\\n', 'apache-airflow-providers-snowflake==5.1.0\\n', 'pyarrow==14.0.0\\n', 'python-tss-sdk==1.2.2\\n', 'oracledb==2.0.1\\n', 'singlestoredb==1.3.1\\n', 'mysql-connector-python==8.4.0\\n', 'sqllineage==1.3.8\\n']\n"
     ]
    }
   ],
   "source": [
    "with open(\"requirements.source\", 'r') as sourcefile:\n",
    "    content = sourcefile.readlines()\n",
    "    print(content)"
   ]
  },
  {
   "cell_type": "code",
   "execution_count": null,
   "id": "5192ea80",
   "metadata": {},
   "outputs": [
    {
     "name": "stdout",
     "output_type": "stream",
     "text": [
      "['Hello, How are you ? \\n', 'I am good \\n', 'RB is my name \\n', 'Welcome to the course \\n', '\\n', '\\n', 'Hello, How are you ? \\n', 'I am good \\n', 'RB is my name \\n', 'Welcome to the course \\n', '\\n', 'Hello, How are you ? \\n', 'I am good \\n', 'RB is my name \\n', 'Welcome to the course \\n', '\\n', 'Hello, How are you ? \\n', 'I am good \\n', 'RB is my name \\n', 'Welcome to the course \\n', '\\n', 'Hello, How are you ? \\n', 'I am good \\n', 'RB is my name \\n', 'Welcome to the course \\n', '\\n', 'Hello, How are you ? \\n', 'I am good \\n', 'RB is my name \\n', 'Welcome to the course \\n', '\\n']\n"
     ]
    }
   ],
   "source": [
    "with open('example.txt', 'r') as file:\n",
    "    content = file.readlines()\n",
    "    unique_lines = set(content)\n",
    "    with open('example-output.txt', 'w') as outfile:\n",
    "        outfile.writelines(unique_lines)\n",
    "        print(unique_lines)"
   ]
  },
  {
   "cell_type": "code",
   "execution_count": 3,
   "id": "5f1f6577",
   "metadata": {},
   "outputs": [],
   "source": [
    "## Writing into a file(Overwriting)\n",
    "with open('sample.txt', 'w') as file:\n",
    "    file.write(\"Welcome to Python\\n\")\n",
    "    file.write(\"This line is written using file write function\")\n",
    "    "
   ]
  },
  {
   "cell_type": "code",
   "execution_count": 1,
   "id": "6312629a",
   "metadata": {},
   "outputs": [
    {
     "name": "stdout",
     "output_type": "stream",
     "text": [
      "2\n"
     ]
    }
   ],
   "source": [
    "print(1 + 1)"
   ]
  },
  {
   "cell_type": "code",
   "execution_count": 4,
   "id": "54ee69df",
   "metadata": {},
   "outputs": [
    {
     "name": "stdout",
     "output_type": "stream",
     "text": [
      "total 72\n",
      "-rw-r--r--  1 ramesh.babu  staff  12154 Sep  8 12:31 duplicates_removal.ipynb\n",
      "-rw-r--r--  1 ramesh.babu  staff     99 Sep  8 12:33 example-output.txt\n",
      "-rw-r--r--  1 ramesh.babu  staff    594 Sep  8 12:33 example.txt\n",
      "-rw-r--r--  1 ramesh.babu  staff   1287 Sep  8 11:39 original-requirements.txt\n",
      "-rw-r--r--  1 ramesh.babu  staff   6475 Sep  8 12:25 requirements.source\n",
      "-rw-r--r--  1 ramesh.babu  staff     64 Sep  8 12:54 sample.txt\n",
      "drwxr-xr-x  6 ramesh.babu  staff    192 Sep  8 11:26 \u001b[34mvenv\u001b[m\u001b[m/\n"
     ]
    }
   ],
   "source": [
    "ls -l "
   ]
  },
  {
   "cell_type": "code",
   "execution_count": 10,
   "id": "bb9198f6",
   "metadata": {},
   "outputs": [
    {
     "name": "stdout",
     "output_type": "stream",
     "text": [
      "{'Hello, How are you ? \\n', 'I am good \\n', 'Welcome to the course \\n', 'RB is my name \\n', '\\n', 'Apple and oranges are good\\n'}\n"
     ]
    }
   ],
   "source": [
    "with open (\"requirements.source\", 'r') as sourcefile:\n",
    "    content = sourcefile.readlines()\n",
    "    unique_lines = set(content)\n",
    "    print(unique_lines)\n",
    "    with open(\"requirements.destination\", 'w') as destfile:\n",
    "        destfile.writelines(unique_lines)\n"
   ]
  },
  {
   "cell_type": "code",
   "execution_count": null,
   "id": "12516691",
   "metadata": {},
   "outputs": [],
   "source": []
  }
 ],
 "metadata": {
  "kernelspec": {
   "display_name": "base",
   "language": "python",
   "name": "python3"
  },
  "language_info": {
   "codemirror_mode": {
    "name": "ipython",
    "version": 3
   },
   "file_extension": ".py",
   "mimetype": "text/x-python",
   "name": "python",
   "nbconvert_exporter": "python",
   "pygments_lexer": "ipython3",
   "version": "3.10.9"
  }
 },
 "nbformat": 4,
 "nbformat_minor": 5
}
